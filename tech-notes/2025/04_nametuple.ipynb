{
 "cells": [
  {
   "cell_type": "markdown",
   "metadata": {},
   "source": [
    "# `nametuple`如何正確理解"
   ]
  },
  {
   "cell_type": "markdown",
   "metadata": {},
   "source": [
    "---\n",
    "**`namedtuple` 的欄位名稱（`fields`）相當於 `class` 裡的變數名稱**，當你實例化 (`instantiate`) `namedtuple` 時，就是在**給這些變數賦值**，類似於 `key-value` 配對。\n",
    "\n",
    "\n",
    "\n",
    "## **對比 `namedtuple` 和 `class`**\n",
    "### **1️⃣ 使用 `class` 定義**\n",
    "```python\n",
    "class Card:\n",
    "    def __init__(self, rank, suit):\n",
    "        self.rank = rank\n",
    "        self.suit = suit\n",
    "\n",
    "# 創建 Card 物件\n",
    "card1 = Card('A', 'hearts')\n",
    "print(card1.rank)  # A\n",
    "print(card1.suit)  # hearts\n",
    "```\n",
    "> 這裡 `rank` 和 `suit` 是 `class` 的**屬性名稱**，`'A'` 和 `'hearts'` 是它們的值。\n",
    "\n",
    "---\n",
    "\n",
    "### **2️⃣ 使用 `namedtuple` 定義**\n",
    "```python\n",
    "from collections import namedtuple\n",
    "\n",
    "# 創建 namedtuple\n",
    "Card = namedtuple('Card', ['rank', 'suit'])\n",
    "\n",
    "# 創建 Card 物件\n",
    "card2 = Card('A', 'hearts')\n",
    "print(card2.rank)  # A\n",
    "print(card2.suit)  # hearts\n",
    "```\n",
    "> 這裡 `rank` 和 `suit` 也是**欄位名稱（fields）**，`'A'` 和 `'hearts'` 是它們的值。\n",
    "\n",
    "---\n",
    "\n",
    "## **比較 `namedtuple` 和 `dict`**\n",
    "因為 `namedtuple` 是**不可變的**（像 `tuple`），所以它和 `dict` 也有類似的 `key-value` 結構，但不同點是：\n",
    "| **比較**      | **namedtuple** | **dict** |\n",
    "|--------------|--------------|---------|\n",
    "| 存取方式 | `card.rank` | `card['rank']` |\n",
    "| 是否可變 | ❌ 不可變 | ✅ 可變 |\n",
    "| 效能 | ✅ 比 `dict` 更快 | ❌ 比 `namedtuple` 慢 |\n",
    "| 記憶體使用 | ✅ 較小 | ❌ 較大 |\n",
    "\n",
    "例如：\n",
    "```python\n",
    "# 用 dict\n",
    "card_dict = {'rank': 'A', 'suit': 'hearts'}\n",
    "print(card_dict['rank'])  # A\n",
    "\n",
    "# 用 namedtuple\n",
    "print(card2.rank)  # A\n",
    "```\n",
    "> `namedtuple` 和 `dict` 都是 **key-value 配對**，但 `namedtuple` 用 `.` 存取，而 `dict` 用 `[]` 存取。\n",
    "\n",
    "---\n",
    "\n",
    "## **總結**\n",
    "✅ **`namedtuple`** 的欄位名稱就像 `class` 的變數名稱，也像 `dict` 的 keys。  \n",
    "✅ **實例化 `namedtuple` 時，就是給這些欄位名稱（keys）對應的值（values）**，類似 `key-value` 配對，但結構固定、不可變。  \n",
    "✅ **比 `dict` 省記憶體，比 `class` 更簡潔，適合存放結構化的數據。** 🚀"
   ]
  },
  {
   "cell_type": "markdown",
   "metadata": {},
   "source": [
    "---"
   ]
  },
  {
   "cell_type": "markdown",
   "metadata": {},
   "source": [
    "\n"
   ]
  },
  {
   "cell_type": "markdown",
   "metadata": {},
   "source": []
  },
  {
   "cell_type": "markdown",
   "metadata": {},
   "source": []
  },
  {
   "cell_type": "markdown",
   "metadata": {},
   "source": [
    "### Python `namedtuple` 最快速入門教學（適合新手）\n",
    "\n",
    "在 Python 中，`namedtuple` 是 `collections` 模組提供的一種特殊元組，它讓你可以像使用物件一樣透過屬性名稱來存取值，而不必記住索引位置。這樣的特性讓程式碼更具可讀性，也能避免索引錯誤。\n",
    "\n",
    "---\n",
    "\n",
    "## 1. `namedtuple` 的基本語法\n",
    "\n",
    "```python\n",
    "from collections import namedtuple\n",
    "\n",
    "# 創建一個 `Point` 類型的 namedtuple，具有 x 和 y 兩個屬性\n",
    "Point = namedtuple('Point', ['x', 'y'])\n",
    "\n",
    "# 創建一個 Point 物件\n",
    "p1 = Point(10, 20)\n",
    "\n",
    "# 透過屬性名稱存取數據\n",
    "print(p1.x)  # 輸出 10\n",
    "print(p1.y)  # 輸出 20\n",
    "```\n",
    "\n",
    "---\n",
    "\n",
    "## 2. `namedtuple` 的優勢\n",
    "- **可讀性高**：用屬性名稱存取值，比起索引位置更容易理解。\n",
    "- **效能高**：與普通 `tuple` 一樣，佔用的記憶體比 `dict` 少，存取速度也更快。\n",
    "- **不可變性**：和 `tuple` 一樣，`namedtuple` 的值不能被修改。\n",
    "\n",
    "---\n",
    "\n",
    "## 3. `namedtuple` 的進階用法\n",
    "\n",
    "### ✅ 方法 1：用 `._make()` 來建立 `namedtuple`\n",
    "如果有現成的列表或元組，可以使用 `._make()` 方法來轉換為 `namedtuple`：\n",
    "\n",
    "```python\n",
    "data = [5, 15]\n",
    "p2 = Point._make(data)  # 用列表建立 namedtuple\n",
    "print(p2)  # Point(x=5, y=15)\n",
    "```\n",
    "\n",
    "### ✅ 方法 2：用 `.asdict()` 轉換成字典\n",
    "可以將 `namedtuple` 轉換成字典，方便操作：\n",
    "\n",
    "```python\n",
    "p_dict = p2._asdict()  # 轉換為字典\n",
    "print(p_dict)  # {'x': 5, 'y': 15}\n",
    "```\n",
    "\n",
    "### ✅ 方法 3：用 `.replace()` 來修改值（因為 `namedtuple` 是不可變的）\n",
    "如果需要修改 `namedtuple` 的值，可以使用 `.replace()` 來產生一個新的 `namedtuple`：\n",
    "\n",
    "```python\n",
    "p3 = p2._replace(x=100)\n",
    "print(p3)  # Point(x=100, y=15)\n",
    "```\n",
    "\n",
    "---\n",
    "\n",
    "## 4. `namedtuple` 的應用場景\n",
    "\n",
    "1. **存儲坐標點 (Point)**：\n",
    "   ```python\n",
    "   Point = namedtuple('Point', ['x', 'y'])\n",
    "   p = Point(3, 4)\n",
    "   print(p.x, p.y)\n",
    "   ```\n",
    "   \n",
    "2. **存儲學生資訊 (Student)**：\n",
    "   ```python\n",
    "   Student = namedtuple('Student', ['name', 'age', 'grade'])\n",
    "   s = Student('小明', 18, 'A')\n",
    "   print(s.name, s.age, s.grade)\n",
    "   ```\n",
    "\n",
    "3. **存儲 RGB 顏色值**：\n",
    "   ```python\n",
    "   Color = namedtuple('Color', ['red', 'green', 'blue'])\n",
    "   c = Color(255, 128, 0)\n",
    "   print(c.red, c.green, c.blue)\n",
    "   ```\n",
    "\n",
    "4. **處理 API 回應結果**：\n",
    "   ```python\n",
    "   Response = namedtuple('Response', ['status', 'data'])\n",
    "   res = Response(200, {'message': '成功'})\n",
    "   print(res.status, res.data)\n",
    "   ```\n",
    "\n",
    "---\n",
    "\n",
    "## 5. `namedtuple` vs `dict`\n",
    "| **比較**         | **namedtuple** | **dict** |\n",
    "|----------------|--------------|----------|\n",
    "| 記憶體使用量  | 少（因為是 `tuple`）| 多 |\n",
    "| 存取方式      | 屬性存取 `.name` | 鍵存取 `['name']` |\n",
    "| 可變性        | ❌ 不可變 | ✅ 可變 |\n",
    "| 速度         | ✅ 更快 | ❌ 比較慢 |\n",
    "\n",
    "---\n",
    "\n",
    "## 6. 總結\n",
    "- `namedtuple` 是 Python 的**增強版 tuple**，支援**屬性存取**，但仍然是不可變的。\n",
    "- 使用 `._make()`、`._asdict()`、`._replace()` 可以更靈活地處理數據。\n",
    "- `namedtuple` 比字典 (`dict`) 更節省記憶體，適合用來存放固定結構的數據（如 API 回應、坐標、顏色值等）。\n",
    "- **如果數據需要頻繁修改，請使用 `dict`；如果數據結構固定，請使用 `namedtuple`。**\n",
    "\n",
    "快速掌握 `namedtuple`，並靈活運用了！🚀"
   ]
  },
  {
   "cell_type": "markdown",
   "metadata": {},
   "source": []
  },
  {
   "cell_type": "markdown",
   "metadata": {},
   "source": []
  },
  {
   "cell_type": "markdown",
   "metadata": {},
   "source": []
  },
  {
   "cell_type": "markdown",
   "metadata": {},
   "source": [
    "---"
   ]
  },
  {
   "cell_type": "markdown",
   "metadata": {},
   "source": [
    "在《Fluent Python》一書中，`namedtuple` 被用來創建撲克牌 (`Card`) 的結構，這是個很好的範例，展示了如何利用 `namedtuple` 來提高可讀性和結構化數據。\n",
    "\n"
   ]
  },
  {
   "cell_type": "markdown",
   "metadata": {},
   "source": [
    "---\n",
    "\n",
    "## **使用 `namedtuple` 表示撲克牌**\n",
    "書中的 `Card` 類型示例如下：\n",
    "\n",
    "```python\n",
    "from collections import namedtuple\n",
    "\n",
    "# 定義 Card 結構\n",
    "Card = namedtuple('Card', ['rank', 'suit'])\n",
    "\n",
    "# 創建一張撲克牌\n",
    "queen_of_hearts = Card('Q', 'hearts')\n",
    "\n",
    "print(queen_of_hearts)    # Card(rank='Q', suit='hearts')\n",
    "print(queen_of_hearts.rank)  # Q\n",
    "print(queen_of_hearts.suit)  # hearts\n",
    "```\n",
    "\n",
    "這樣，我們可以用更直觀的方式來存儲一張撲克牌，而不是用 `tuple` 或 `dict` 來存放數據。\n",
    "\n"
   ]
  },
  {
   "cell_type": "code",
   "execution_count": 2,
   "metadata": {},
   "outputs": [],
   "source": [
    "from collections import namedtuple"
   ]
  },
  {
   "cell_type": "code",
   "execution_count": 4,
   "metadata": {},
   "outputs": [],
   "source": [
    "Card = namedtuple('Card', ['rank', 'suit'])"
   ]
  },
  {
   "cell_type": "code",
   "execution_count": 6,
   "metadata": {},
   "outputs": [
    {
     "name": "stdout",
     "output_type": "stream",
     "text": [
      "Q\n",
      "hearts\n"
     ]
    },
    {
     "data": {
      "text/plain": [
       "Card(rank='Q', suit='hearts')"
      ]
     },
     "execution_count": 6,
     "metadata": {},
     "output_type": "execute_result"
    }
   ],
   "source": [
    "queen_of_hearts = Card('Q', 'hearts')\n",
    "print(queen_of_hearts.rank)\n",
    "print(queen_of_hearts.suit)\n",
    "queen_of_hearts"
   ]
  },
  {
   "cell_type": "code",
   "execution_count": null,
   "metadata": {},
   "outputs": [],
   "source": []
  },
  {
   "cell_type": "code",
   "execution_count": null,
   "metadata": {},
   "outputs": [],
   "source": []
  },
  {
   "cell_type": "markdown",
   "metadata": {},
   "source": [
    "---\n",
    "\n",
    "## **建立整副撲克牌**\n",
    "接下來，我們可以用 `namedtuple` 來建立一整副撲克牌（52 張）。\n",
    "\n",
    "```python\n",
    "import itertools\n",
    "\n",
    "# 定義撲克牌的花色和點數\n",
    "RANKS = [str(n) for n in range(2, 11)] + list('JQKA')  # 點數 2-10 + J, Q, K, A\n",
    "SUITS = 'spades diamonds clubs hearts'.split()  # 黑桃、方塊、梅花、紅心\n",
    "\n",
    "# 生成整副撲克牌\n",
    "deck = [Card(rank, suit) for suit, rank in itertools.product(SUITS, RANKS)]\n",
    "\n",
    "# 查看前 5 張牌\n",
    "print(deck[:5])\n",
    "# [Card(rank='2', suit='spades'), Card(rank='3', suit='spades'), ...]\n",
    "\n",
    "# 抽一張隨機的牌\n",
    "import random\n",
    "print(random.choice(deck))  # 例如：Card(rank='K', suit='hearts')\n",
    "```\n",
    "\n"
   ]
  },
  {
   "cell_type": "code",
   "execution_count": 7,
   "metadata": {},
   "outputs": [],
   "source": [
    "import itertools"
   ]
  },
  {
   "cell_type": "code",
   "execution_count": 9,
   "metadata": {},
   "outputs": [
    {
     "data": {
      "text/plain": [
       "['2', '3', '4', '5', '6', '7', '8', '9', '10', 'J', 'Q', 'K', 'A']"
      ]
     },
     "execution_count": 9,
     "metadata": {},
     "output_type": "execute_result"
    }
   ],
   "source": [
    "RANKS = [str(n) for n in range(2, 11)] + list('JQKA')\n",
    "\n",
    "RANKS"
   ]
  },
  {
   "cell_type": "code",
   "execution_count": 11,
   "metadata": {},
   "outputs": [
    {
     "data": {
      "text/plain": [
       "'spades diamonds clubs hearts'"
      ]
     },
     "execution_count": 11,
     "metadata": {},
     "output_type": "execute_result"
    }
   ],
   "source": [
    "SUITS = 'spades diamonds clubs hearts'\n",
    "SUITS"
   ]
  },
  {
   "cell_type": "code",
   "execution_count": 12,
   "metadata": {},
   "outputs": [
    {
     "data": {
      "text/plain": [
       "['spades', 'diamonds', 'clubs', 'hearts']"
      ]
     },
     "execution_count": 12,
     "metadata": {},
     "output_type": "execute_result"
    }
   ],
   "source": [
    "SUITS = SUITS.split()\n",
    "SUITS"
   ]
  },
  {
   "cell_type": "code",
   "execution_count": 13,
   "metadata": {},
   "outputs": [],
   "source": [
    "# Generate the whole deck of cards\n",
    "# Non pythonics\n",
    "deck = []\n",
    "for suit in SUITS:\n",
    "    for rank in RANKS:\n",
    "        deck.append(Card(rank, suit))"
   ]
  },
  {
   "cell_type": "code",
   "execution_count": 14,
   "metadata": {},
   "outputs": [
    {
     "name": "stdout",
     "output_type": "stream",
     "text": [
      "[Card(rank='2', suit='spades'), Card(rank='3', suit='spades'), Card(rank='4', suit='spades'), Card(rank='5', suit='spades'), Card(rank='6', suit='spades')]\n"
     ]
    }
   ],
   "source": [
    "print(deck[:5])"
   ]
  },
  {
   "cell_type": "code",
   "execution_count": 17,
   "metadata": {},
   "outputs": [
    {
     "name": "stdout",
     "output_type": "stream",
     "text": [
      "[('2', 'spades'), ('2', 'diamonds'), ('2', 'clubs'), ('2', 'hearts'), ('3', 'spades')]\n"
     ]
    }
   ],
   "source": [
    "# A Pythonic Way with itertools, but not namedtuple\n",
    "\n",
    "deck2 = list(itertools.product(RANKS, SUITS))\n",
    "print(deck2[:5])\n",
    "\n"
   ]
  },
  {
   "cell_type": "code",
   "execution_count": 18,
   "metadata": {},
   "outputs": [
    {
     "name": "stdout",
     "output_type": "stream",
     "text": [
      "[Card(rank='2', suit='spades'), Card(rank='3', suit='spades'), Card(rank='4', suit='spades'), Card(rank='5', suit='spades'), Card(rank='6', suit='spades')]\n"
     ]
    }
   ],
   "source": [
    "# Another Pythonic way with namedtuples\n",
    "deck = [Card(rank, suit) for suit, rank in itertools.product(SUITS, RANKS)]\n",
    "\n",
    "print(deck[:5])"
   ]
  },
  {
   "cell_type": "code",
   "execution_count": 19,
   "metadata": {},
   "outputs": [
    {
     "data": {
      "text/plain": [
       "[Card(rank='2', suit='spades'),\n",
       " Card(rank='3', suit='spades'),\n",
       " Card(rank='4', suit='spades'),\n",
       " Card(rank='5', suit='spades'),\n",
       " Card(rank='6', suit='spades'),\n",
       " Card(rank='7', suit='spades'),\n",
       " Card(rank='8', suit='spades'),\n",
       " Card(rank='9', suit='spades'),\n",
       " Card(rank='10', suit='spades'),\n",
       " Card(rank='J', suit='spades'),\n",
       " Card(rank='Q', suit='spades'),\n",
       " Card(rank='K', suit='spades'),\n",
       " Card(rank='A', suit='spades'),\n",
       " Card(rank='2', suit='diamonds'),\n",
       " Card(rank='3', suit='diamonds'),\n",
       " Card(rank='4', suit='diamonds'),\n",
       " Card(rank='5', suit='diamonds'),\n",
       " Card(rank='6', suit='diamonds'),\n",
       " Card(rank='7', suit='diamonds'),\n",
       " Card(rank='8', suit='diamonds'),\n",
       " Card(rank='9', suit='diamonds'),\n",
       " Card(rank='10', suit='diamonds'),\n",
       " Card(rank='J', suit='diamonds'),\n",
       " Card(rank='Q', suit='diamonds'),\n",
       " Card(rank='K', suit='diamonds'),\n",
       " Card(rank='A', suit='diamonds'),\n",
       " Card(rank='2', suit='clubs'),\n",
       " Card(rank='3', suit='clubs'),\n",
       " Card(rank='4', suit='clubs'),\n",
       " Card(rank='5', suit='clubs'),\n",
       " Card(rank='6', suit='clubs'),\n",
       " Card(rank='7', suit='clubs'),\n",
       " Card(rank='8', suit='clubs'),\n",
       " Card(rank='9', suit='clubs'),\n",
       " Card(rank='10', suit='clubs'),\n",
       " Card(rank='J', suit='clubs'),\n",
       " Card(rank='Q', suit='clubs'),\n",
       " Card(rank='K', suit='clubs'),\n",
       " Card(rank='A', suit='clubs'),\n",
       " Card(rank='2', suit='hearts'),\n",
       " Card(rank='3', suit='hearts'),\n",
       " Card(rank='4', suit='hearts'),\n",
       " Card(rank='5', suit='hearts'),\n",
       " Card(rank='6', suit='hearts'),\n",
       " Card(rank='7', suit='hearts'),\n",
       " Card(rank='8', suit='hearts'),\n",
       " Card(rank='9', suit='hearts'),\n",
       " Card(rank='10', suit='hearts'),\n",
       " Card(rank='J', suit='hearts'),\n",
       " Card(rank='Q', suit='hearts'),\n",
       " Card(rank='K', suit='hearts'),\n",
       " Card(rank='A', suit='hearts')]"
      ]
     },
     "execution_count": 19,
     "metadata": {},
     "output_type": "execute_result"
    }
   ],
   "source": [
    "deck"
   ]
  },
  {
   "cell_type": "code",
   "execution_count": null,
   "metadata": {},
   "outputs": [],
   "source": []
  },
  {
   "cell_type": "code",
   "execution_count": null,
   "metadata": {},
   "outputs": [],
   "source": []
  },
  {
   "cell_type": "markdown",
   "metadata": {},
   "source": [
    "---\n",
    "\n",
    "## **為 `Card` 類別添加排序功能**\n",
    "在 `namedtuple` 的基礎上，我們可以為 `Card` 增加排序功能，這樣我們就能比較兩張牌的大小。\n",
    "\n",
    "```python\n",
    "# 定義撲克牌的權重（撲克牌的數值大小）\n",
    "RANK_VALUES = {rank: index for index, rank in enumerate(RANKS, start=2)}\n",
    "\n",
    "def card_value(card):\n",
    "    \"\"\"返回撲克牌的數值大小\"\"\"\n",
    "    return RANK_VALUES[card.rank]\n",
    "\n",
    "# 測試比較大小\n",
    "card1 = Card('3', 'hearts')\n",
    "card2 = Card('J', 'spades')\n",
    "\n",
    "print(card_value(card1))  # 3\n",
    "print(card_value(card2))  # 11\n",
    "```\n",
    "\n",
    "我們可以用這個函數來對一手牌進行排序：\n",
    "\n",
    "```python\n",
    "# 排序一副撲克牌\n",
    "sorted_deck = sorted(deck, key=card_value)\n",
    "\n",
    "print(sorted_deck[:5])  # 最小的幾張牌（從 2 開始）\n",
    "```\n",
    "\n"
   ]
  },
  {
   "cell_type": "code",
   "execution_count": 20,
   "metadata": {},
   "outputs": [],
   "source": [
    "# 定義撲克牌的權重（撲克牌的數值大小）\n",
    "RANK_VALUES = {rank: index for index, rank in enumerate(RANKS, start=2)}"
   ]
  },
  {
   "cell_type": "code",
   "execution_count": 21,
   "metadata": {},
   "outputs": [
    {
     "data": {
      "text/plain": [
       "{'2': 2,\n",
       " '3': 3,\n",
       " '4': 4,\n",
       " '5': 5,\n",
       " '6': 6,\n",
       " '7': 7,\n",
       " '8': 8,\n",
       " '9': 9,\n",
       " '10': 10,\n",
       " 'J': 11,\n",
       " 'Q': 12,\n",
       " 'K': 13,\n",
       " 'A': 14}"
      ]
     },
     "execution_count": 21,
     "metadata": {},
     "output_type": "execute_result"
    }
   ],
   "source": [
    "RANK_VALUES"
   ]
  },
  {
   "cell_type": "code",
   "execution_count": 22,
   "metadata": {},
   "outputs": [],
   "source": [
    "def card_value(card):\n",
    "    return RANK_VALUES[card.rank]"
   ]
  },
  {
   "cell_type": "code",
   "execution_count": 23,
   "metadata": {},
   "outputs": [
    {
     "data": {
      "text/plain": [
       "10"
      ]
     },
     "execution_count": 23,
     "metadata": {},
     "output_type": "execute_result"
    }
   ],
   "source": [
    "card1 = Card('10', 'hearts')\n",
    "\n",
    "card_value(card1)"
   ]
  },
  {
   "cell_type": "code",
   "execution_count": 25,
   "metadata": {},
   "outputs": [
    {
     "data": {
      "text/plain": [
       "11"
      ]
     },
     "execution_count": 25,
     "metadata": {},
     "output_type": "execute_result"
    }
   ],
   "source": [
    "card2 = Card('J', 'spades')\n",
    "\n",
    "card_value(card2)"
   ]
  },
  {
   "cell_type": "code",
   "execution_count": null,
   "metadata": {},
   "outputs": [],
   "source": []
  },
  {
   "cell_type": "code",
   "execution_count": null,
   "metadata": {},
   "outputs": [],
   "source": []
  },
  {
   "cell_type": "code",
   "execution_count": null,
   "metadata": {},
   "outputs": [],
   "source": []
  },
  {
   "cell_type": "code",
   "execution_count": null,
   "metadata": {},
   "outputs": [],
   "source": []
  },
  {
   "cell_type": "code",
   "execution_count": null,
   "metadata": {},
   "outputs": [],
   "source": []
  },
  {
   "cell_type": "markdown",
   "metadata": {},
   "source": [
    "---\n",
    "\n",
    "## **結論**\n",
    "這個 `namedtuple` 的 `Card` 例子展示了：\n",
    "1. 如何用 `namedtuple` 來定義一張撲克牌的數據結構。\n",
    "2. 如何生成整副撲克牌並隨機抽取。\n",
    "3. 如何用排序函數來比較撲克牌的大小。\n",
    "\n",
    "這種方式比使用普通 `tuple` (`('Q', 'hearts')`) 更可讀，也比 `dict` (`{'rank': 'Q', 'suit': 'hearts'}`) 更高效。這是 `namedtuple` 的典型應用場景之一，非常適合新手學習 Python 的數據結構。♠️♦️♣️♥️"
   ]
  },
  {
   "cell_type": "markdown",
   "metadata": {},
   "source": []
  },
  {
   "cell_type": "markdown",
   "metadata": {},
   "source": []
  },
  {
   "cell_type": "markdown",
   "metadata": {},
   "source": []
  },
  {
   "cell_type": "markdown",
   "metadata": {},
   "source": [
    "---"
   ]
  },
  {
   "cell_type": "markdown",
   "metadata": {},
   "source": [
    "### **如何在 `namedtuple` 中傳遞參數？每個參數的意義**\n",
    "在 Python 的 `namedtuple` 中，當你定義一個 `namedtuple` 類型時，你需要提供 **兩個關鍵參數**：\n",
    "\n",
    "```python\n",
    "from collections import namedtuple\n",
    "\n",
    "Card = namedtuple('Card', ['rank', 'suit'])\n",
    "```\n",
    "\n",
    "這裡 `namedtuple()` 有兩個主要的參數：\n",
    "1. **類型名稱**（`Card`）：  \n",
    "   - 這是新 `namedtuple` 類型的名稱，類似於你定義 `class Card` 的概念。\n",
    "   - 它是字串類型，決定了 `namedtuple` 物件的類別名稱。\n",
    "\n",
    "2. **欄位名稱列表**（`['rank', 'suit']`）：  \n",
    "   - 這是一個**字串列表**，表示這個 `namedtuple` 的屬性名稱（fields）。\n",
    "   - 這些名稱就是 `namedtuple` 內部的**變數名稱**，你可以透過這些屬性名稱來存取數據。\n",
    "\n",
    "---\n",
    "\n",
    "## **如何帶入 arguments？**\n",
    "當 `namedtuple` 類型創建完畢後，你就可以像普通類別一樣，透過**位置參數**或**關鍵字參數**來初始化它。\n",
    "\n",
    "### **方法 1：使用位置參數**\n",
    "```python\n",
    "card1 = Card('A', 'hearts')  # 直接傳遞參數\n",
    "print(card1)  # Card(rank='A', suit='hearts')\n",
    "print(card1.rank)  # A\n",
    "print(card1.suit)  # hearts\n",
    "```\n",
    "> **這裡 `Card('A', 'hearts')` 會對應到 `rank='A'` 和 `suit='hearts'`**。\n",
    "\n",
    "### **方法 2：使用關鍵字參數**\n",
    "```python\n",
    "card2 = Card(rank='K', suit='spades')\n",
    "print(card2)  # Card(rank='K', suit='spades')\n",
    "```\n",
    "> **這種方法可讀性更高，避免傳遞錯誤的參數順序**。\n",
    "\n",
    "---\n",
    "\n",
    "## **如何自訂 `namedtuple` 的 `default` 值？**\n",
    "標準 `namedtuple` 沒有內建的**預設值**功能，但你可以使用 `defaultdict` 或 `__defaults__` 來解決這個問題。\n",
    "\n",
    "### **方法 1：使用 `_replace()` 設定預設值**\n",
    "```python\n",
    "BaseCard = namedtuple('BaseCard', ['rank', 'suit'])\n",
    "DefaultCard = BaseCard._make(['J', 'hearts'])  # 這裡 `J` 和 `hearts` 是預設值\n",
    "\n",
    "# 若沒提供值，就使用 _replace() 設定預設\n",
    "def create_card(rank=None, suit=None):\n",
    "    return DefaultCard._replace(rank=rank or 'J', suit=suit or 'hearts')\n",
    "\n",
    "card3 = create_card()  # 沒有提供值，使用預設\n",
    "print(card3)  # BaseCard(rank='J', suit='hearts')\n",
    "\n",
    "card4 = create_card(rank='Q')  # 只提供 rank，suit 使用預設\n",
    "print(card4)  # BaseCard(rank='Q', suit='hearts')\n",
    "```\n",
    "\n",
    "### **方法 2：使用 `NamedTuple`（Python 3.7+ 推薦）**\n",
    "如果你需要**更靈活的預設值**，可以改用 `typing.NamedTuple`，它允許預設值。\n",
    "\n",
    "```python\n",
    "from typing import NamedTuple\n",
    "\n",
    "class Card(NamedTuple):\n",
    "    rank: str = 'A'  # 設定預設值\n",
    "    suit: str = 'spades'  \n",
    "\n",
    "card5 = Card()  # 沒提供值，使用預設\n",
    "print(card5)  # Card(rank='A', suit='spades')\n",
    "\n",
    "card6 = Card(rank='K')  # 只改 rank\n",
    "print(card6)  # Card(rank='K', suit='spades')\n",
    "```\n",
    "\n",
    "---\n",
    "\n",
    "## **總結**\n",
    "| 方法 | 語法 | 優點 | 缺點 |\n",
    "|------|------|------|------|\n",
    "| `namedtuple` + 位置參數 | `Card('A', 'hearts')` | 快速，但可能難以閱讀 | 參數順序容易錯誤 |\n",
    "| `namedtuple` + 關鍵字參數 | `Card(rank='A', suit='hearts')` | 更具可讀性 | 需要手動輸入欄位名稱 |\n",
    "| `_replace()` 設定預設值 | `card._replace(rank='J')` | 可部分修改 | 原始 `namedtuple` 沒有內建預設值功能 |\n",
    "| `NamedTuple`（Python 3.7+）| `class Card(NamedTuple)` | 允許內建預設值，類似 `dataclass` | 需要 Python 3.7 以上 |\n",
    "\n",
    "> 如果你需要**預設值**，推薦使用 `NamedTuple`；如果只需要**結構化數據**，`namedtuple` 會更輕量且高效！🚀"
   ]
  },
  {
   "cell_type": "markdown",
   "metadata": {},
   "source": []
  },
  {
   "cell_type": "markdown",
   "metadata": {},
   "source": []
  },
  {
   "cell_type": "markdown",
   "metadata": {},
   "source": []
  },
  {
   "cell_type": "markdown",
   "metadata": {},
   "source": [
    "---"
   ]
  },
  {
   "cell_type": "markdown",
   "metadata": {},
   "source": [
    "在 `namedtuple` 的定義中，**欄位名稱列表（field names）** 不一定必須是 `list`，它可以是：\n",
    "1. **`list`（列表）**\n",
    "2. **`tuple`（元組）**\n",
    "3. **`空格分隔的字串`**\n",
    "\n",
    "### **1. `list` 或 `tuple` 作為欄位名稱**\n",
    "```python\n",
    "from collections import namedtuple\n",
    "\n",
    "# 使用列表（list）\n",
    "Card = namedtuple('Card', ['rank', 'suit'])\n",
    "\n",
    "# 使用元組（tuple）\n",
    "Card2 = namedtuple('Card2', ('rank', 'suit'))\n",
    "\n",
    "# 創建 Card 物件\n",
    "card1 = Card('A', 'hearts')\n",
    "card2 = Card2('K', 'spades')\n",
    "\n",
    "print(card1)  # Card(rank='A', suit='hearts')\n",
    "print(card2)  # Card2(rank='K', suit='spades')\n",
    "```\n",
    "✅ `list` 和 `tuple` 都可以使用，因為它們是**可迭代（iterable）**的。\n",
    "\n",
    "---\n",
    "\n",
    "### **2. 使用空格分隔的字串**\n",
    "你可以直接使用**空格分隔的字串**，Python 會自動拆分成欄位名稱：\n",
    "\n",
    "```python\n",
    "Card3 = namedtuple('Card3', 'rank suit')\n",
    "\n",
    "card3 = Card3('Q', 'diamonds')\n",
    "print(card3)  # Card3(rank='Q', suit='diamonds')\n",
    "```\n",
    "\n",
    "✅ 這種方式更簡潔，但不容易在動態程式碼中修改。\n",
    "\n",
    "---\n",
    "\n",
    "## **欄位名稱（fields）定義後如何使用？**\n",
    "當 `namedtuple` 被定義後，它的欄位名稱會自動存儲在 `_fields` 屬性中。\n",
    "\n",
    "```python\n",
    "print(Card._fields)  # ('rank', 'suit')\n",
    "```\n",
    "這個 `_fields` 屬性可以用來動態檢查欄位名稱，或者用於程式的通用邏輯處理。\n",
    "\n",
    "---\n",
    "\n",
    "## **欄位名稱的應用場景**\n",
    "1. **遍歷欄位名稱**\n",
    "```python\n",
    "for field in Card._fields:\n",
    "    print(field)  \n",
    "# 輸出：\n",
    "# rank\n",
    "# suit\n",
    "```\n",
    "\n",
    "2. **使用 `_asdict()` 將 `namedtuple` 轉為字典**\n",
    "```python\n",
    "card_dict = card1._asdict()\n",
    "print(card_dict)  # {'rank': 'A', 'suit': 'hearts'}\n",
    "```\n",
    "這樣可以方便地將 `namedtuple` 轉為 `dict` 以進一步處理。\n",
    "\n",
    "3. **動態創建 `namedtuple`**\n",
    "如果你要根據變數來動態創建 `namedtuple`，可以這樣做：\n",
    "```python\n",
    "fields = ['x', 'y', 'z']\n",
    "Point = namedtuple('Point', fields)\n",
    "\n",
    "p = Point(10, 20, 30)\n",
    "print(p)  # Point(x=10, y=20, z=30)\n",
    "```\n",
    "\n",
    "---\n",
    "\n",
    "## **總結**\n",
    "| 欄位名稱格式 | 說明 | 優點 | 何時使用 |\n",
    "|-------------|------|------|--------|\n",
    "| `list` `['rank', 'suit']` | 使用列表 | 可讀性高，動態生成 | 欄位名稱來自變數 |\n",
    "| `tuple` `('rank', 'suit')` | 使用元組 | 可讀性高，與 `list` 類似 | 欄位數固定時 |\n",
    "| `str` `'rank suit'` | 空格分隔字串 | 最簡潔 | 直接手寫欄位名稱時 |\n",
    "| `_fields` | 檢查欄位名稱 | 方便遍歷 | 動態處理欄位 |\n",
    "\n",
    "✅ `list` 和 `tuple` 比較靈活，適合從變數創建 `namedtuple`。  \n",
    "✅ 字串格式適合手寫，簡潔直觀。  \n",
    "✅ `_fields` 屬性可以用來動態存取 `namedtuple` 的欄位名稱。\n",
    "\n",
    "這樣就能靈活運用 `namedtuple` 的欄位名稱了！🚀"
   ]
  },
  {
   "cell_type": "markdown",
   "metadata": {},
   "source": []
  },
  {
   "cell_type": "markdown",
   "metadata": {},
   "source": []
  },
  {
   "cell_type": "markdown",
   "metadata": {},
   "source": []
  },
  {
   "cell_type": "markdown",
   "metadata": {},
   "source": [
    "---"
   ]
  },
  {
   "cell_type": "markdown",
   "metadata": {},
   "source": [
    "是的，**`namedtuple` 和 `class` 雖然類似，但仍然不同**，特別是在類型名稱（`type`）的行為上，它的類型名稱來自 `namedtuple()` 的第一個參數。\n",
    "\n",
    "---\n",
    "\n",
    "## **1️⃣ `class` 和 `namedtuple` 的 `type` 比較**\n",
    "### **👉 `class` 的 `type`**\n",
    "```python\n",
    "class ABC:\n",
    "    pass\n",
    "\n",
    "abc = ABC()\n",
    "print(type(abc))  # <class '__main__.ABC'>\n",
    "```\n",
    "🔹 **這裡 `abc` 的類型是 `ABC`，它是標準的 Python 類別**。\n",
    "\n",
    "---\n",
    "\n",
    "### **👉 `namedtuple` 的 `type`**\n",
    "```python\n",
    "from collections import namedtuple\n",
    "\n",
    "MyClass = namedtuple('MyClass', ['a', 'b', 'c'])\n",
    "abc = MyClass(11, 22, 33)\n",
    "\n",
    "print(type(abc))  # <class '__main__.MyClass'>\n",
    "```\n",
    "🔹 **這裡 `abc` 的類型不是 `namedtuple`，而是 `\"MyClass\"`**，這個名稱來自 `namedtuple('MyClass', [...])` 的**第一個參數**。\n",
    "\n",
    "---\n",
    "\n",
    "## **2️⃣ `namedtuple` 的 `type` 來自第一個參數**\n",
    "當你這樣寫：\n",
    "```python\n",
    "NamedTupleType = namedtuple('CustomType', ['x', 'y'])\n",
    "```\n",
    "**等效於 Python 自動創建了一個新的類別：**\n",
    "```python\n",
    "class CustomType(tuple):\n",
    "    x: int\n",
    "    y: int\n",
    "```\n",
    "這表示：\n",
    "```python\n",
    "print(type(NamedTupleType))  # <class 'type'>\n",
    "print(type(NamedTupleType(1, 2)))  # <class '__main__.CustomType'>\n",
    "```\n",
    "所以 **`NamedTupleType` 本質上就是一個類型，而它的實例（物件）的 `type` 來自 `namedtuple` 的第一個參數 `\"CustomType\"`**。\n",
    "\n",
    "---\n",
    "\n",
    "## **3️⃣ `namedtuple` 和 `class` 的核心區別**\n",
    "| **比較**         | **class** | **namedtuple** |\n",
    "|-----------------|---------|--------------|\n",
    "| 是否可變 | ✅ 可變 | ❌ 不可變（像 `tuple`） |\n",
    "| 記憶體效率 | ❌ 比較大 | ✅ 更小（因為是 `tuple`） |\n",
    "| 物件的 `type` | `type(abc) == ABC` | `type(abc) == \"第一個參數\"` |\n",
    "| 可否增加方法 | ✅ 可以定義 | ⚠️ 不能直接定義方法，但可 `NamedTuple` |\n",
    "| 適用場景 | 需要方法和行為 | 儲存結構化數據 |\n",
    "\n",
    "---\n",
    "\n",
    "## **4️⃣ 總結**\n",
    "1. `namedtuple('MyClass', [...])` 創建的類型名稱來自**第一個參數**，所以：\n",
    "   ```python\n",
    "   Point = namedtuple('Point', ['x', 'y'])\n",
    "   p = Point(1, 2)\n",
    "   print(type(p))  # <class '__main__.Point'>\n",
    "   ```\n",
    "2. **`namedtuple` 和 `class` 類似，但仍然不同**：\n",
    "   - **`namedtuple` 更像 `tuple`，且不可變。**\n",
    "   - **`namedtuple` 物件的 `type` 來自 `namedtuple()` 的第一個參數。**\n",
    "   - **`class` 物件的 `type` 來自 `class` 本身。**\n",
    "3. **如果需要行為和方法，應該使用 `class`；如果只存數據，應該使用 `namedtuple`。**\n",
    "\n",
    "✅ **`namedtuple` 不是完全的 `class` 替代品，但在儲存結構化數據時非常高效！** 🚀"
   ]
  },
  {
   "cell_type": "markdown",
   "metadata": {},
   "source": []
  },
  {
   "cell_type": "markdown",
   "metadata": {},
   "source": []
  },
  {
   "cell_type": "markdown",
   "metadata": {},
   "source": []
  },
  {
   "cell_type": "markdown",
   "metadata": {},
   "source": [
    "---"
   ]
  },
  {
   "cell_type": "markdown",
   "metadata": {},
   "source": [
    "在 **Python 的 `namedtuple` 定義中**，這兩個語句：\n",
    "\n",
    "```python\n",
    "Point = namedtuple('Point', ['x', 'y'])\n",
    "```\n",
    "與\n",
    "```python\n",
    "a_point = namedtuple('Point', ['x', 'y'])\n",
    "```\n",
    "都能運作，但 **第一個 `Point = namedtuple(...)` 是更標準的命名方式**。\n",
    "\n",
    "---\n",
    "\n",
    "## **🔹 哪個更標準？為什麼？**\n",
    "✅ **推薦使用：**\n",
    "```python\n",
    "Point = namedtuple('Point', ['x', 'y'])\n",
    "```\n",
    "- 這是 **Python 社群的標準寫法**，因為 **變數名 `Point` 代表 `Point` 類型（type），類似於 `class` 定義**。\n",
    "- 這樣命名時，我們可以直接使用 `Point(1, 2)` 來建立 `namedtuple` 實例，語意清楚。\n",
    "\n",
    "❌ **較不推薦：**\n",
    "```python\n",
    "a_point = namedtuple('Point', ['x', 'y'])\n",
    "```\n",
    "- 這裡 **`a_point` 變數實際上是一個 `namedtuple` 類別，而不是一個 `Point` 實例**。\n",
    "- 這種命名容易造成混淆，因為 `a_point` 讓人以為它是一個 `Point` 物件，而實際上它是一個類型（type）。\n",
    "- 這會影響可讀性，因為你需要寫 `a_point(1, 2)` 才能創建物件，而不是 `Point(1, 2)`。\n",
    "\n",
    "---\n",
    "\n",
    "## **🔹 `Point` 變數名與 `Point` 類型相同，如何分辨？**\n",
    "```python\n",
    "Point = namedtuple('Point', ['x', 'y'])\n",
    "p = Point(3, 4)\n",
    "\n",
    "print(type(Point))  # <class 'type'>\n",
    "print(type(p))      # <class '__main__.Point'>\n",
    "```\n",
    "\n",
    "- **變數 `Point` 的 `type` 是 `type`（因為它是 `namedtuple` 創建的類型）**。\n",
    "- **`p` 是 `Point` 的實例，`type(p)` 是 `Point`，但這個 `Point` 是 `namedtuple` 生成的類別**。\n",
    "\n",
    "換句話說：\n",
    "1. **`Point` 本身是一個類型（相當於 `class`）**。\n",
    "2. **當你執行 `p = Point(3, 4)`，`p` 是 `Point` 的實例**。\n",
    "\n",
    "---\n",
    "\n",
    "## **🔹 類似 `class` 的對比**\n",
    "如果用 `class` 來對比：\n",
    "```python\n",
    "class Point:\n",
    "    def __init__(self, x, y):\n",
    "        self.x = x\n",
    "        self.y = y\n",
    "\n",
    "p = Point(3, 4)\n",
    "\n",
    "print(type(Point))  # <class 'type'>\n",
    "print(type(p))      # <class '__main__.Point'>\n",
    "```\n",
    "這與 `namedtuple` **的行為完全相同**！\n",
    "\n",
    "> ✅ **結論**：\n",
    "> - **用 `Point = namedtuple('Point', ['x', 'y'])` 最標準，因為它類似 `class Point:` 的命名方式**。\n",
    "> - **當變數與類型名稱相同時，Python 仍然可以區分，因為 `Point` 變數指向 `namedtuple` 類別，而 `Point(3, 4)` 創建的物件是該類別的實例**。\n",
    "\n",
    "🚀 **最佳實踐：請使用 `Point = namedtuple('Point', ['x', 'y'])`，保持一致性，並提高可讀性！**"
   ]
  },
  {
   "cell_type": "markdown",
   "metadata": {},
   "source": []
  },
  {
   "cell_type": "markdown",
   "metadata": {},
   "source": []
  },
  {
   "cell_type": "markdown",
   "metadata": {},
   "source": []
  },
  {
   "cell_type": "markdown",
   "metadata": {},
   "source": [
    "---"
   ]
  },
  {
   "cell_type": "markdown",
   "metadata": {},
   "source": [
    "在 `a_Point = namedtuple('Point', ['x', 'y'])` 這樣的語句中：\n",
    "\n",
    "- **`a_Point` 是一個變數**，它儲存了 `namedtuple('Point', ...)` 產生的**類型（type）**。\n",
    "- **`'Point'`（字串參數）** 是 `namedtuple` 內部的**類別名稱**，它影響 `repr()` 的輸出，但不影響 `a_Point` 本身的變數名稱。\n",
    "\n",
    "---\n",
    "\n",
    "## **🔹 誰是 `type`？**\n",
    "讓我們驗證：\n",
    "```python\n",
    "from collections import namedtuple\n",
    "\n",
    "a_Point = namedtuple('Point', ['x', 'y'])  # 創建一個 namedtuple 類型\n",
    "p = a_Point(10, 20)  # 創建 namedtuple 實例\n",
    "\n",
    "print(type(a_Point))  # <class 'type'> ✅ a_Point 是類型\n",
    "print(type(p))        # <class '__main__.Point'> ✅ p 的類型是 'Point'\n",
    "```\n",
    "\n",
    "### **📌 解析**\n",
    "1. **`a_Point` 本身是 `type`，它是一個 `namedtuple` 類別**\n",
    "   ```python\n",
    "   print(type(a_Point))  # <class 'type'>\n",
    "   ```\n",
    "   ✅ **`a_Point` 是真正的 Python 類別（type）**。\n",
    "\n",
    "2. **`p = a_Point(10, 20)` 的 `type` 來自 `namedtuple` 的第一個參數 `'Point'`**\n",
    "   ```python\n",
    "   print(type(p))  # <class '__main__.Point'>\n",
    "   ```\n",
    "   ✅ 這裡 `p` 的 `type` 會顯示 `'Point'`，因為 `namedtuple('Point', ...)` 內部把 `'Point'` 設為類別名稱。\n",
    "\n",
    "---\n",
    "\n",
    "## **🔹 `a_Point` 和 `Point` 的區別**\n",
    "```python\n",
    "a_Point = namedtuple('Point', ['x', 'y'])  # 類型名稱是 'Point'\n",
    "b_Point = namedtuple('MyPoint', ['x', 'y'])  # 類型名稱是 'MyPoint'\n",
    "\n",
    "p1 = a_Point(5, 6)\n",
    "p2 = b_Point(7, 8)\n",
    "\n",
    "print(type(p1))  # <class '__main__.Point'>   ✅ 類別名稱是 'Point'\n",
    "print(type(p2))  # <class '__main__.MyPoint'> ✅ 類別名稱是 'MyPoint'\n",
    "```\n",
    "這表示：\n",
    "- **`a_Point` 的類型名稱是 `\"Point\"`**\n",
    "- **`b_Point` 的類型名稱是 `\"MyPoint\"`**\n",
    "\n",
    "即使變數名稱 `a_Point` 不叫 `Point`，但 **`p1` 的 `type` 仍然是 `\"Point\"`**，因為 `namedtuple` **第一個參數決定了類型名稱**。\n",
    "\n",
    "---\n",
    "\n",
    "## **🚀 總結**\n",
    "| 問題 | 答案 |\n",
    "|------|------|\n",
    "| `a_Point` 是什麼？ | **`a_Point` 是一個類別（`type`）**，它是 `namedtuple()` 產生的類型。 |\n",
    "| `type(a_Point)` 是什麼？ | **`<class 'type'>`**（因為它是 Python 創建的類別）。 |\n",
    "| `type(a_Point(10, 20))` 是什麼？ | **`<class '__main__.Point'>`**（因為 `'Point'` 是 `namedtuple` 的第一個參數）。 |\n",
    "| 變數 `a_Point` 會影響 `type()` 嗎？ | **不會**，`type()` 只受 `namedtuple` 第一個參數影響。 |\n",
    "\n",
    "---\n",
    "\n",
    "## **🎯 最佳實踐**\n",
    "✅ **標準命名方式**（推薦）：\n",
    "```python\n",
    "Point = namedtuple('Point', ['x', 'y'])  # 變數名和類型名一致\n",
    "p = Point(1, 2)\n",
    "print(type(p))  # <class '__main__.Point'>\n",
    "```\n",
    "這種寫法讓 `Point` **既是變數名稱，也是類別名稱**，讓代碼更直觀。\n",
    "\n",
    "❌ **不推薦 `a_Point` 這種命名方式，因為它讓代碼可讀性變差**：\n",
    "```python\n",
    "a_Point = namedtuple('Point', ['x', 'y'])  # 變數名和類型名不同\n",
    "p = a_Point(1, 2)\n",
    "print(type(p))  # <class '__main__.Point'>\n",
    "```\n",
    "雖然程式仍然能運作，但 `a_Point` 這個名稱讓人誤以為它是一個物件，而不是類型。\n",
    "\n",
    "✅ **記住，變數 `a_Point` 只是指向 `namedtuple()` 產生的類別，而 `namedtuple` 第一個參數決定了類別名稱！** 🚀"
   ]
  }
 ],
 "metadata": {
  "kernelspec": {
   "display_name": "ml-test1",
   "language": "python",
   "name": "python3"
  },
  "language_info": {
   "codemirror_mode": {
    "name": "ipython",
    "version": 3
   },
   "file_extension": ".py",
   "mimetype": "text/x-python",
   "name": "python",
   "nbconvert_exporter": "python",
   "pygments_lexer": "ipython3",
   "version": "3.11.8"
  }
 },
 "nbformat": 4,
 "nbformat_minor": 2
}
